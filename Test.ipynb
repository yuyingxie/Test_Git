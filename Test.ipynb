{
  "nbformat": 4,
  "nbformat_minor": 0,
  "metadata": {
    "colab": {
      "provenance": [],
      "authorship_tag": "ABX9TyOR1cjzK4NUdztz1bhOUH5r",
      "include_colab_link": true
    },
    "kernelspec": {
      "name": "python3",
      "display_name": "Python 3"
    },
    "language_info": {
      "name": "python"
    },
    "accelerator": "GPU",
    "gpuClass": "standard"
  },
  "cells": [
    {
      "cell_type": "markdown",
      "metadata": {
        "id": "view-in-github",
        "colab_type": "text"
      },
      "source": [
        "<a href=\"https://colab.research.google.com/github/yuyingxie/Test_Git/blob/master/Test.ipynb\" target=\"_parent\"><img src=\"https://colab.research.google.com/assets/colab-badge.svg\" alt=\"Open In Colab\"/></a>"
      ]
    },
    {
      "cell_type": "code",
      "execution_count": 36,
      "metadata": {
        "id": "xaZ_VqUnagkT"
      },
      "outputs": [],
      "source": [
        "import torch\n",
        "from torch.distributions import Normal\n",
        "import torchvision\n",
        "import numpy as np\n",
        "import matplotlib.pyplot as plt\n",
        "import torch.nn as nn\n",
        "import torch.optim as optim\n",
        "import torch.nn.functional as F\n",
        "from torchvision.utils import make_grid\n",
        "import torchvision.transforms as transforms\n",
        "from tqdm import tqdm\n",
        "from torchvision.utils import save_image\n",
        "import os\n",
        "import tensorflow as tf\n",
        "\n",
        "\n"
      ]
    },
    {
      "cell_type": "code",
      "source": [
        "mnist = tf.keras.datasets.mnist\n",
        "(x_train, y_train), (x_test, y_test) = mnist.load_data()\n",
        "print(x_train.shape)\n",
        "images = torch.from_numpy(x_train)\n",
        "ground_truth = torch.from_numpy(y_train)\n",
        "print(images.shape)\n",
        "print(ground_truth.shape)"
      ],
      "metadata": {
        "colab": {
          "base_uri": "https://localhost:8080/"
        },
        "id": "ceetcJ2kjtWf",
        "outputId": "608b79d7-3b21-469d-cd41-6b4ef0eace3c"
      },
      "execution_count": 37,
      "outputs": [
        {
          "output_type": "stream",
          "name": "stdout",
          "text": [
            "(60000, 28, 28)\n",
            "torch.Size([60000, 28, 28])\n",
            "torch.Size([60000])\n"
          ]
        }
      ]
    },
    {
      "cell_type": "code",
      "source": [
        "torchvision.datasets.MNIST('./', download = True, train=True)"
      ],
      "metadata": {
        "id": "nipzkR_5ax5c",
        "colab": {
          "base_uri": "https://localhost:8080/"
        },
        "outputId": "48bd8c86-ff71-4e7e-cfb8-154e3360062d"
      },
      "execution_count": 38,
      "outputs": [
        {
          "output_type": "execute_result",
          "data": {
            "text/plain": [
              "Dataset MNIST\n",
              "    Number of datapoints: 60000\n",
              "    Root location: ./\n",
              "    Split: Train"
            ]
          },
          "metadata": {},
          "execution_count": 38
        }
      ]
    },
    {
      "cell_type": "code",
      "source": [
        "image_index = 12\n",
        "print(ground_truth[image_index])\n",
        "plt.imshow(images[image_index], cmap = 'gray')"
      ],
      "metadata": {
        "colab": {
          "base_uri": "https://localhost:8080/",
          "height": 299
        },
        "id": "sD_C5MgJMKPG",
        "outputId": "f165437d-b911-49e9-c7cc-558df63748d0"
      },
      "execution_count": 39,
      "outputs": [
        {
          "output_type": "stream",
          "name": "stdout",
          "text": [
            "tensor(3, dtype=torch.uint8)\n"
          ]
        },
        {
          "output_type": "execute_result",
          "data": {
            "text/plain": [
              "<matplotlib.image.AxesImage at 0x7f313a64d850>"
            ]
          },
          "metadata": {},
          "execution_count": 39
        },
        {
          "output_type": "display_data",
          "data": {
            "text/plain": [
              "<Figure size 432x288 with 1 Axes>"
            ],
            "image/png": "[encoded data removed]"
          },
          "metadata": {
            "needs_background": "light"
          }
        }
      ]
    },
    {
      "cell_type": "code",
      "source": [
        "from torch.utils.data import Dataset\n",
        "\n",
        "class MNISTDataset(Dataset):\n",
        "  '''\n",
        "  Creats a MAP-style Pytorch Dataset. Can query the dataset via index.\n",
        "  Need to implement __getitem__ and __len__methods\n",
        "  '''\n",
        "  def __init__(self, path):\n",
        "    # load the data into memory\n",
        "    self.images, self.ground_truth = torch.load(path)\n",
        "  \n",
        "  def __getitem_(self, idx):\n",
        "    x = self.images[idx].float()\n",
        "    x = torch.Tensor(x)\n",
        "    x = torch.flatten(x) # 'flatten' the image from 28 x 28 to 784\n",
        "    return x\n",
        "  \n",
        "  def __len__(self):\n",
        "    '''\n",
        "    Returns the length of the dataset\n",
        "    '''\n",
        "    return len(self.ground_truth)"
      ],
      "metadata": {
        "id": "Oib2y0NMd4ja"
      },
      "execution_count": 40,
      "outputs": []
    },
    {
      "cell_type": "code",
      "source": [
        "pwd"
      ],
      "metadata": {
        "colab": {
          "base_uri": "https://localhost:8080/",
          "height": 37
        },
        "id": "GEAo8FFIpSo4",
        "outputId": "40b0c0d3-b87a-4d7b-e192-e2f30544e9da"
      },
      "execution_count": 41,
      "outputs": [
        {
          "output_type": "execute_result",
          "data": {
            "text/plain": [
              "'/content'"
            ],
            "application/vnd.google.colaboratory.intrinsic+json": {
              "type": "string"
            }
          },
          "metadata": {},
          "execution_count": 41
        }
      ]
    },
    {
      "cell_type": "code",
      "source": [
        "train_dataset = MNISTDataset('MNIST/processed/training.pt')\n",
        "test_dataset = MNISTDataset('MNIST/processed/test.pt')\n",
        "print(len(train_dataset))"
      ],
      "metadata": {
        "colab": {
          "base_uri": "https://localhost:8080/"
        },
        "id": "kDRjlb8LIG4o",
        "outputId": "365a5647-f554-49ee-cb63-4fbdd645f887"
      },
      "execution_count": 42,
      "outputs": [
        {
          "output_type": "stream",
          "name": "stdout",
          "text": [
            "60000\n"
          ]
        }
      ]
    },
    {
      "cell_type": "code",
      "source": [
        "test_dataset"
      ],
      "metadata": {
        "colab": {
          "base_uri": "https://localhost:8080/"
        },
        "id": "UVqYPWZup9y8",
        "outputId": "d27078cf-6620-4b57-83c3-86141ff5b150"
      },
      "execution_count": 43,
      "outputs": [
        {
          "output_type": "execute_result",
          "data": {
            "text/plain": [
              "<__main__.MNISTDataset at 0x7f313a679550>"
            ]
          },
          "metadata": {},
          "execution_count": 43
        }
      ]
    },
    {
      "cell_type": "markdown",
      "source": [
        "\\# New Section"
      ],
      "metadata": {
        "id": "Uri0LX9RJAHk"
      }
    },
    {
      "cell_type": "code",
      "source": [],
      "metadata": {
        "id": "daVPN7oHHyiF"
      },
      "execution_count": null,
      "outputs": []
    }
  ]
}